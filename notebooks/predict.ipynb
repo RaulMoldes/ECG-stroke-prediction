{
 "cells": [
  {
   "cell_type": "code",
   "execution_count": 19,
   "id": "6318a507",
   "metadata": {},
   "outputs": [],
   "source": [
    "import findspark\n",
    "findspark.init()"
   ]
  },
  {
   "cell_type": "code",
   "execution_count": 20,
   "id": "1f81f759",
   "metadata": {},
   "outputs": [],
   "source": [
    "from pyspark.ml.feature import OneHotEncoder\n",
    "from pyspark.ml.feature import MinMaxScaler\n",
    "from pyspark.ml.feature import VectorAssembler\n",
    "from pyspark.ml.classification import LogisticRegression\n",
    "from pyspark.sql.types import *\n",
    "from pyspark.ml import Pipeline\n"
   ]
  },
  {
   "cell_type": "code",
   "execution_count": 21,
   "id": "56cecab8",
   "metadata": {},
   "outputs": [],
   "source": [
    "from pyspark.sql import SparkSession\n",
    "\n",
    "spark = SparkSession.builder.appName('UCI Heart prediction').getOrCreate()"
   ]
  },
  {
   "cell_type": "code",
   "execution_count": 22,
   "id": "3062dc7b",
   "metadata": {},
   "outputs": [],
   "source": [
    "PARAMETERS = {\n",
    "    'INPUT_DATA_PATH': 'data/heart.csv',\n",
    "    'TRAIN_DATA_PATH': 'data/train',\n",
    "    'TEST_DATA_PATH': 'data/test',\n",
    "    'INFER_SCHEMA': True,\n",
    "    'HEADER': True,\n",
    "    'TARGET_COLUMN': 'target',\n",
    "    'TEST_SIZE': 0.2,\n",
    "    'RANDOM_SEED': 42,\n",
    "    'MAX_ITER': 10,\n",
    "    'REG_PARAM': 0.3,\n",
    "    'MODEL_PATH': 'models/logistic_regression',\n",
    "\n",
    "    }\n",
    "\n",
    "\n"
   ]
  },
  {
   "cell_type": "code",
   "execution_count": 23,
   "id": "afe3c31c",
   "metadata": {},
   "outputs": [
    {
     "name": "stdout",
     "output_type": "stream",
     "text": [
      "+---+---+---+--------+----+---+-------+-------+-----+-------+-----+---+----+------+\n",
      "|age|sex| cp|trestbps|chol|fbs|restecg|thalach|exang|oldpeak|slope| ca|thal|target|\n",
      "+---+---+---+--------+----+---+-------+-------+-----+-------+-----+---+----+------+\n",
      "| 34|  0|  1|     118| 210|  0|      1|    192|    0|    0.7|    2|  0|   2|     1|\n",
      "| 35|  0|  0|     138| 183|  0|      1|    182|    0|    1.4|    2|  0|   2|     1|\n",
      "| 37|  0|  2|     120| 215|  0|      1|    170|    0|    0.0|    2|  0|   2|     1|\n",
      "+---+---+---+--------+----+---+-------+-------+-----+-------+-----+---+----+------+\n",
      "only showing top 3 rows\n",
      "\n"
     ]
    }
   ],
   "source": [
    "heart_predict = spark.read.csv(PARAMETERS['TEST_DATA_PATH'], \n",
    "                       inferSchema = PARAMETERS['INFER_SCHEMA'], \n",
    "                       header = PARAMETERS['HEADER'])\n",
    "\n",
    "schema = heart_predict.schema\n",
    "heart_predict.show(3)\n",
    "\n",
    "ORIGINAL_COLUMNS = heart_predict.columns\n",
    "COLUMNS_TO_SCALE = ['age','trestbps','chol','thalach','oldpeak']\n",
    "NOT_TO_SCALE = [x for x in ORIGINAL_COLUMNS if x not in COLUMNS_TO_SCALE]"
   ]
  },
  {
   "cell_type": "code",
   "execution_count": 24,
   "id": "28d8812f",
   "metadata": {},
   "outputs": [
    {
     "name": "stdout",
     "output_type": "stream",
     "text": [
      "root\n",
      " |-- age: integer (nullable = true)\n",
      " |-- sex: integer (nullable = true)\n",
      " |-- cp: integer (nullable = true)\n",
      " |-- trestbps: integer (nullable = true)\n",
      " |-- chol: integer (nullable = true)\n",
      " |-- fbs: integer (nullable = true)\n",
      " |-- restecg: integer (nullable = true)\n",
      " |-- thalach: integer (nullable = true)\n",
      " |-- exang: integer (nullable = true)\n",
      " |-- oldpeak: double (nullable = true)\n",
      " |-- slope: integer (nullable = true)\n",
      " |-- ca: integer (nullable = true)\n",
      " |-- thal: integer (nullable = true)\n",
      " |-- target: integer (nullable = true)\n",
      "\n"
     ]
    }
   ],
   "source": [
    "heart_predict.printSchema()"
   ]
  },
  {
   "cell_type": "code",
   "execution_count": 25,
   "id": "088afddf",
   "metadata": {},
   "outputs": [],
   "source": [
    "from pyspark.ml import PipelineModel\n",
    "\n",
    "\n",
    "pModel = PipelineModel.load(PARAMETERS['MODEL_PATH'])"
   ]
  },
  {
   "cell_type": "code",
   "execution_count": 28,
   "id": "c2077daa",
   "metadata": {
    "scrolled": true
   },
   "outputs": [],
   "source": [
    "repartitioned = heart_predict.repartition(10)\n",
    "repartitioned\n",
    "#Create a directory\n",
    "repartitioned.write.format(\"CSV\").option(\"header\",False).save(\"data/streaming-prepared/\")"
   ]
  },
  {
   "cell_type": "code",
   "execution_count": 30,
   "id": "7f8489bd",
   "metadata": {},
   "outputs": [],
   "source": [
    "sourceStream = (\n",
    "    spark.readStream.schema(schema)\n",
    "    .option(\"maxFilesPerTrigger\", 1)\n",
    "    .csv(\"data/streaming-prepared\")\n",
    "    \n",
    ")"
   ]
  },
  {
   "cell_type": "code",
   "execution_count": 32,
   "id": "55c9160b",
   "metadata": {},
   "outputs": [],
   "source": [
    "prediction1 = pModel.transform(sourceStream).select('target',\n",
    "                                                   'probability',\n",
    "                                                   'prediction')"
   ]
  },
  {
   "cell_type": "code",
   "execution_count": 33,
   "id": "4c6113aa",
   "metadata": {
    "scrolled": true
   },
   "outputs": [
    {
     "data": {
      "text/plain": [
       "DataFrame[target: int, probability: vector, prediction: double]"
      ]
     },
     "metadata": {},
     "output_type": "display_data"
    }
   ],
   "source": [
    "display(prediction1)"
   ]
  },
  {
   "cell_type": "code",
   "execution_count": 35,
   "id": "eb2672a1",
   "metadata": {},
   "outputs": [],
   "source": [
    "#SAVE PREDICTIONS TO MEMORY\n",
    "query = (\n",
    "            prediction1.writeStream.queryName(\"prediction\") \n",
    "            .format(\"memory\")\n",
    "            .outputMode(\"append\")\n",
    "            .start())"
   ]
  },
  {
   "cell_type": "code",
   "execution_count": 37,
   "id": "34147a93",
   "metadata": {},
   "outputs": [
    {
     "name": "stdout",
     "output_type": "stream",
     "text": [
      "+------+--------------------+----------+\n",
      "|target|         probability|prediction|\n",
      "+------+--------------------+----------+\n",
      "|     1|[0.25986077301635...|       1.0|\n",
      "|     1|[0.21486082587260...|       1.0|\n",
      "|     0|[0.69921885125176...|       0.0|\n",
      "|     1|[0.12493890625893...|       1.0|\n",
      "|     0|[0.78957905706201...|       0.0|\n",
      "|     0|[0.84518413819083...|       0.0|\n",
      "|     0|[0.78066419923193...|       0.0|\n",
      "|     0|[0.81099168103656...|       0.0|\n",
      "|     0|[0.81356022274645...|       0.0|\n",
      "|     0|[0.58556439405414...|       0.0|\n",
      "+------+--------------------+----------+\n",
      "only showing top 10 rows\n",
      "\n",
      "+------+--------------------+----------+\n",
      "|target|         probability|prediction|\n",
      "+------+--------------------+----------+\n",
      "|     1|[0.25986077301635...|       1.0|\n",
      "|     1|[0.21486082587260...|       1.0|\n",
      "|     0|[0.69921885125176...|       0.0|\n",
      "|     1|[0.12493890625893...|       1.0|\n",
      "|     0|[0.78957905706201...|       0.0|\n",
      "|     0|[0.84518413819083...|       0.0|\n",
      "|     0|[0.78066419923193...|       0.0|\n",
      "|     0|[0.81099168103656...|       0.0|\n",
      "|     0|[0.81356022274645...|       0.0|\n",
      "|     0|[0.58556439405414...|       0.0|\n",
      "+------+--------------------+----------+\n",
      "only showing top 10 rows\n",
      "\n"
     ]
    },
    {
     "data": {
      "text/plain": [
       "DataFrame[target: int, probability: vector, prediction: double]"
      ]
     },
     "execution_count": 37,
     "metadata": {},
     "output_type": "execute_result"
    }
   ],
   "source": [
    "for x in range(2):\n",
    "    df = spark.sql(\n",
    "        \"SELECT * FROM prediction\")\n",
    "    df.show(10)\n",
    "df"
   ]
  },
  {
   "cell_type": "code",
   "execution_count": null,
   "id": "3391605d",
   "metadata": {},
   "outputs": [],
   "source": []
  }
 ],
 "metadata": {
  "kernelspec": {
   "display_name": "Python 3 (ipykernel)",
   "language": "python",
   "name": "python3"
  },
  "language_info": {
   "codemirror_mode": {
    "name": "ipython",
    "version": 3
   },
   "file_extension": ".py",
   "mimetype": "text/x-python",
   "name": "python",
   "nbconvert_exporter": "python",
   "pygments_lexer": "ipython3",
   "version": "3.8.19"
  }
 },
 "nbformat": 4,
 "nbformat_minor": 5
}
