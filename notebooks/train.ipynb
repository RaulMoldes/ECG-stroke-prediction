{
 "cells": [
  {
   "cell_type": "code",
   "execution_count": 71,
   "id": "6318a507",
   "metadata": {},
   "outputs": [],
   "source": [
    "import findspark\n",
    "findspark.init()\n",
    "\n"
   ]
  },
  {
   "cell_type": "code",
   "execution_count": 72,
   "id": "4878544d",
   "metadata": {},
   "outputs": [],
   "source": [
    "from pyspark.ml.feature import OneHotEncoder\n",
    "from pyspark.ml.feature import MinMaxScaler\n",
    "from pyspark.ml.feature import StringIndexer\n",
    "from pyspark.ml.feature import VectorAssembler\n",
    "from pyspark.ml.feature import OneHotEncoder\n",
    "from pyspark.ml.classification import LogisticRegression\n",
    "from pyspark.ml.pipeline import Pipeline\n",
    "from pyspark.sql.types import *"
   ]
  },
  {
   "cell_type": "code",
   "execution_count": 73,
   "id": "56cecab8",
   "metadata": {},
   "outputs": [],
   "source": [
    "from pyspark.sql import SparkSession\n",
    "spark = SparkSession.builder.appName(\"LogisticRegression\").master(\"local[*]\").getOrCreate()\n"
   ]
  },
  {
   "cell_type": "code",
   "execution_count": 74,
   "id": "9a43e8fb",
   "metadata": {},
   "outputs": [],
   "source": [
    "PARAMETERS = {\n",
    "    'INPUT_DATA_PATH': 'data/heart.csv',\n",
    "    'TRAIN_DATA_PATH': 'data/train',\n",
    "    'TEST_DATA_PATH': 'data/test',\n",
    "    'INFER_SCHEMA': True,\n",
    "    'HEADER': True,\n",
    "    'TARGET_COLUMN': 'target',\n",
    "    'TEST_SIZE': 0.2,\n",
    "    'RANDOM_SEED': 42,\n",
    "    'MAX_ITER': 10,\n",
    "    'REG_PARAM': 0.3,\n",
    "    'MODEL_PATH': 'models/logistic_regression',\n",
    "\n",
    "    }\n",
    "\n",
    "\n",
    "\n"
   ]
  },
  {
   "cell_type": "code",
   "execution_count": 75,
   "id": "afe3c31c",
   "metadata": {},
   "outputs": [
    {
     "name": "stdout",
     "output_type": "stream",
     "text": [
      "+---+---+---+--------+----+---+-------+-------+-----+-------+-----+---+----+------+\n",
      "|age|sex| cp|trestbps|chol|fbs|restecg|thalach|exang|oldpeak|slope| ca|thal|target|\n",
      "+---+---+---+--------+----+---+-------+-------+-----+-------+-----+---+----+------+\n",
      "| 63|  1|  3|     145| 233|  1|      0|    150|    0|    2.3|    0|  0|   1|     1|\n",
      "| 37|  1|  2|     130| 250|  0|      1|    187|    0|    3.5|    0|  0|   2|     1|\n",
      "| 41|  0|  1|     130| 204|  0|      0|    172|    0|    1.4|    2|  0|   2|     1|\n",
      "+---+---+---+--------+----+---+-------+-------+-----+-------+-----+---+----+------+\n",
      "only showing top 3 rows\n",
      "\n"
     ]
    }
   ],
   "source": [
    "heart = spark.read.csv(PARAMETERS['INPUT_DATA_PATH'], \n",
    "                       inferSchema = PARAMETERS['INFER_SCHEMA'], \n",
    "                       header = PARAMETERS['HEADER'])\n",
    "heart.show(3)\n",
    "\n",
    "ORIGINAL_COLUMNS = heart.columns\n",
    "COLUMNS_TO_SCALE = ['age','trestbps','chol','thalach','oldpeak']\n",
    "NOT_TO_SCALE = [x for x in ORIGINAL_COLUMNS if x not in COLUMNS_TO_SCALE]"
   ]
  },
  {
   "cell_type": "code",
   "execution_count": 76,
   "id": "28d8812f",
   "metadata": {},
   "outputs": [
    {
     "name": "stdout",
     "output_type": "stream",
     "text": [
      "root\n",
      " |-- age: integer (nullable = true)\n",
      " |-- sex: integer (nullable = true)\n",
      " |-- cp: integer (nullable = true)\n",
      " |-- trestbps: integer (nullable = true)\n",
      " |-- chol: integer (nullable = true)\n",
      " |-- fbs: integer (nullable = true)\n",
      " |-- restecg: integer (nullable = true)\n",
      " |-- thalach: integer (nullable = true)\n",
      " |-- exang: integer (nullable = true)\n",
      " |-- oldpeak: double (nullable = true)\n",
      " |-- slope: integer (nullable = true)\n",
      " |-- ca: integer (nullable = true)\n",
      " |-- thal: integer (nullable = true)\n",
      " |-- target: integer (nullable = true)\n",
      "\n"
     ]
    }
   ],
   "source": [
    "heart.printSchema()"
   ]
  },
  {
   "cell_type": "code",
   "execution_count": 77,
   "id": "1b2c3b4b",
   "metadata": {},
   "outputs": [
    {
     "name": "stdout",
     "output_type": "stream",
     "text": [
      "Train set length: 209\n",
      "+---+---+---+--------+----+---+-------+-------+-----+-------+-----+---+----+------+\n",
      "|age|sex| cp|trestbps|chol|fbs|restecg|thalach|exang|oldpeak|slope| ca|thal|target|\n",
      "+---+---+---+--------+----+---+-------+-------+-----+-------+-----+---+----+------+\n",
      "| 29|  1|  1|     130| 204|  0|      0|    202|    0|    0.0|    2|  0|   2|     1|\n",
      "| 34|  1|  3|     118| 182|  0|      0|    174|    0|    0.0|    2|  0|   2|     1|\n",
      "| 35|  1|  0|     120| 198|  0|      1|    130|    1|    1.6|    1|  0|   3|     0|\n",
      "+---+---+---+--------+----+---+-------+-------+-----+-------+-----+---+----+------+\n",
      "only showing top 3 rows\n",
      "\n"
     ]
    }
   ],
   "source": [
    "testDF, trainDF = heart.randomSplit([0.3, 0.7])\n",
    "print(f\"Train set length: {trainDF.count()}\")\n",
    "trainDF.show(3)"
   ]
  },
  {
   "cell_type": "code",
   "execution_count": 78,
   "id": "4863a379",
   "metadata": {},
   "outputs": [],
   "source": [
    "testDF.write.mode(\"overwrite\").option(\"header\", \"true\").csv(PARAMETERS['TEST_DATA_PATH'])\n",
    "trainDF.write.mode(\"overwrite\").option(\"header\", \"true\").csv(PARAMETERS['TRAIN_DATA_PATH'])\n"
   ]
  },
  {
   "cell_type": "code",
   "execution_count": 79,
   "id": "9ea2376e",
   "metadata": {},
   "outputs": [],
   "source": [
    "trainDF_ = spark.read.csv(PARAMETERS['TRAIN_DATA_PATH'], inferSchema=PARAMETERS['INFER_SCHEMA'], header=True)\n",
    "testDF = spark.read.csv(PARAMETERS['TEST_DATA_PATH'], inferSchema=PARAMETERS['INFER_SCHEMA'], header=True)\n",
    "# Create the logistic regression model\n",
    "lr = LogisticRegression(maxIter=PARAMETERS['MAX_ITER'], regParam= PARAMETERS['REG_PARAM'], labelCol=PARAMETERS['TARGET_COLUMN'])"
   ]
  },
  {
   "cell_type": "code",
   "execution_count": 80,
   "id": "4007600c",
   "metadata": {},
   "outputs": [],
   "source": [
    "# We scale our inputs\n",
    "assembler_scale = VectorAssembler(inputCols=COLUMNS_TO_SCALE, outputCol=\"columns_to_scale\")\n",
    "scaler = MinMaxScaler(inputCol=\"columns_to_scale\", outputCol=\"features_scaled\")\n",
    "columns = NOT_TO_SCALE + ['features_scaled']\n",
    "# We create a second assembler for the scaled features.\n",
    "assembler_train = VectorAssembler(inputCols=columns, outputCol=\"features\")\n",
    "                         \n"
   ]
  },
  {
   "cell_type": "code",
   "execution_count": 81,
   "id": "247fdb95",
   "metadata": {},
   "outputs": [],
   "source": [
    "# Create stages list\n",
    "myStages = [assembler_scale, scaler,  assembler_train, lr]\n",
    "\n",
    "# Set up the pipeline\n",
    "pipeline = Pipeline(stages= myStages)"
   ]
  },
  {
   "cell_type": "code",
   "execution_count": 82,
   "id": "8ab63f90",
   "metadata": {},
   "outputs": [
    {
     "name": "stdout",
     "output_type": "stream",
     "text": [
      "+------+--------------------+----------+\n",
      "|target|         probability|prediction|\n",
      "+------+--------------------+----------+\n",
      "|     1|[0.11811290805099...|       1.0|\n",
      "|     1|[0.09747661278283...|       1.0|\n",
      "|     0|[0.76617856301984...|       0.0|\n",
      "|     0|[0.68093490665240...|       0.0|\n",
      "|     1|[0.12413018888222...|       1.0|\n",
      "|     1|[0.18186659652377...|       1.0|\n",
      "|     1|[0.18186659652377...|       1.0|\n",
      "|     1|[0.07349765729741...|       1.0|\n",
      "|     1|[0.12911017745246...|       1.0|\n",
      "|     0|[0.66755096454978...|       0.0|\n",
      "|     1|[0.14222147807076...|       1.0|\n",
      "|     0|[0.80936526883131...|       0.0|\n",
      "|     1|[0.20842148066763...|       1.0|\n",
      "|     1|[0.11077611502264...|       1.0|\n",
      "|     1|[0.12225122449727...|       1.0|\n",
      "|     1|[0.14413629619967...|       1.0|\n",
      "|     0|[0.54578947908463...|       0.0|\n",
      "|     1|[0.14635697706560...|       1.0|\n",
      "|     1|[0.11796814947501...|       1.0|\n",
      "|     1|[0.17242473297768...|       1.0|\n",
      "+------+--------------------+----------+\n",
      "only showing top 20 rows\n",
      "\n"
     ]
    }
   ],
   "source": [
    "# We fit the model using the training data.\n",
    "pModel = pipeline.fit(trainDF)\n",
    "\n",
    "# We transform the data.\n",
    "trainingPred = pModel.transform(trainDF)\n",
    "\n",
    "# # We select the actual label, probability and predictions\n",
    "trainingPred.select('target','probability','prediction').show()"
   ]
  },
  {
   "cell_type": "code",
   "execution_count": 83,
   "id": "c2077daa",
   "metadata": {
    "scrolled": true
   },
   "outputs": [],
   "source": [
    "import os\n",
    "\n",
    "if os.path.exists(PARAMETERS['MODEL_PATH']):\n",
    "    os.remove(PARAMETERS['MODEL_PATH'])\n",
    "\n",
    "pModel.save(PARAMETERS['MODEL_PATH'])"
   ]
  },
  {
   "cell_type": "code",
   "execution_count": null,
   "id": "3391605d",
   "metadata": {},
   "outputs": [],
   "source": []
  }
 ],
 "metadata": {
  "kernelspec": {
   "display_name": "Python 3 (ipykernel)",
   "language": "python",
   "name": "python3"
  },
  "language_info": {
   "codemirror_mode": {
    "name": "ipython",
    "version": 3
   },
   "file_extension": ".py",
   "mimetype": "text/x-python",
   "name": "python",
   "nbconvert_exporter": "python",
   "pygments_lexer": "ipython3",
   "version": "3.8.19"
  }
 },
 "nbformat": 4,
 "nbformat_minor": 5
}
